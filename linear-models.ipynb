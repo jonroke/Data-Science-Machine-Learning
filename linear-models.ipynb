{
 "cells": [
  {
   "cell_type": "code",
   "execution_count": 1,
   "id": "3d7d78cf",
   "metadata": {
    "_cell_guid": "b1076dfc-b9ad-4769-8c92-a6c4dae69d19",
    "_uuid": "8f2839f25d086af736a60e9eeb907d3b93b6e0e5",
    "execution": {
     "iopub.execute_input": "2023-12-18T15:21:27.370548Z",
     "iopub.status.busy": "2023-12-18T15:21:27.369988Z",
     "iopub.status.idle": "2023-12-18T15:21:27.385592Z",
     "shell.execute_reply": "2023-12-18T15:21:27.384151Z"
    },
    "papermill": {
     "duration": 0.026054,
     "end_time": "2023-12-18T15:21:27.388689",
     "exception": false,
     "start_time": "2023-12-18T15:21:27.362635",
     "status": "completed"
    },
    "tags": []
   },
   "outputs": [],
   "source": [
    "# This Python 3 environment comes with many helpful analytics libraries installed\n",
    "# It is defined by the kaggle/python Docker image: https://github.com/kaggle/docker-python\n",
    "# For example, here's several helpful packages to load\n",
    "\n",
    "import numpy as np # linear algebra\n",
    "import pandas as pd # data processing, CSV file I/O (e.g. pd.read_csv)\n",
    "\n",
    "# Input data files are available in the read-only \"../input/\" directory\n",
    "# For example, running this (by clicking run or pressing Shift+Enter) will list all files under the input directory\n",
    "\n",
    "import os\n",
    "for dirname, _, filenames in os.walk('/kaggle/input'):\n",
    "    for filename in filenames:\n",
    "        print(os.path.join(dirname, filename))\n",
    "\n",
    "# You can write up to 20GB to the current directory (/kaggle/working/) that gets preserved as output when you create a version using \"Save & Run All\" \n",
    "# You can also write temporary files to /kaggle/temp/, but they won't be saved outside of the current session"
   ]
  },
  {
   "cell_type": "code",
   "execution_count": 2,
   "id": "88f53393",
   "metadata": {
    "execution": {
     "iopub.execute_input": "2023-12-18T15:21:27.399025Z",
     "iopub.status.busy": "2023-12-18T15:21:27.398493Z",
     "iopub.status.idle": "2023-12-18T15:21:28.898813Z",
     "shell.execute_reply": "2023-12-18T15:21:28.897406Z"
    },
    "papermill": {
     "duration": 1.509611,
     "end_time": "2023-12-18T15:21:28.902283",
     "exception": false,
     "start_time": "2023-12-18T15:21:27.392672",
     "status": "completed"
    },
    "tags": []
   },
   "outputs": [
    {
     "name": "stdout",
     "output_type": "stream",
     "text": [
      "dict_keys(['data', 'target', 'frame', 'target_names', 'DESCR', 'feature_names', 'filename', 'data_module'])\n"
     ]
    }
   ],
   "source": [
    "from sklearn.linear_model import LinearRegression\n",
    "from sklearn.model_selection import train_test_split\n",
    "from sklearn.datasets import load_breast_cancer\n",
    "cancer = load_breast_cancer()\n",
    "print(cancer.keys())"
   ]
  },
  {
   "cell_type": "code",
   "execution_count": 3,
   "id": "d1779cf1",
   "metadata": {
    "execution": {
     "iopub.execute_input": "2023-12-18T15:21:28.912231Z",
     "iopub.status.busy": "2023-12-18T15:21:28.911773Z",
     "iopub.status.idle": "2023-12-18T15:21:28.946718Z",
     "shell.execute_reply": "2023-12-18T15:21:28.944960Z"
    },
    "papermill": {
     "duration": 0.047569,
     "end_time": "2023-12-18T15:21:28.953968",
     "exception": false,
     "start_time": "2023-12-18T15:21:28.906399",
     "status": "completed"
    },
    "tags": []
   },
   "outputs": [
    {
     "name": "stdout",
     "output_type": "stream",
     "text": [
      "Training set score: 0.78\n",
      "Test set score: 0.73\n"
     ]
    }
   ],
   "source": [
    "#Linear regression finds the parameters w (where the line crosses 0) and b (the y axis offset eg how far it goes up for each unit on the x axis) that minimise the mean squared error.\n",
    "X_train, x_test, Y_train, y_test = train_test_split(cancer[\"data\"], cancer[\"target\"], random_state=0)\n",
    "lr = LinearRegression().fit(X_train, Y_train)\n",
    "print(\"Training set score: {:.2f}\".format(lr.score(X_train, Y_train)))\n",
    "print(\"Test set score: {:.2f}\".format(lr.score(x_test, y_test)))"
   ]
  },
  {
   "cell_type": "code",
   "execution_count": 4,
   "id": "89679eb9",
   "metadata": {
    "execution": {
     "iopub.execute_input": "2023-12-18T15:21:28.974794Z",
     "iopub.status.busy": "2023-12-18T15:21:28.973901Z",
     "iopub.status.idle": "2023-12-18T15:21:29.004061Z",
     "shell.execute_reply": "2023-12-18T15:21:29.002171Z"
    },
    "papermill": {
     "duration": 0.046741,
     "end_time": "2023-12-18T15:21:29.010300",
     "exception": false,
     "start_time": "2023-12-18T15:21:28.963559",
     "status": "completed"
    },
    "tags": []
   },
   "outputs": [
    {
     "name": "stdout",
     "output_type": "stream",
     "text": [
      "Training set score: 0.75\n",
      "Test set score: 0.72\n"
     ]
    }
   ],
   "source": [
    "#This is used to constrain the linear model and to try and avoid overfitting. It does this by making all the magnitudes of coefficents close to 0. \n",
    "from sklearn.linear_model import Ridge\n",
    "ridge = Ridge().fit(X_train, Y_train)\n",
    "print(\"Training set score: {:.2f}\".format(ridge.score(X_train, Y_train)))\n",
    "print(\"Test set score: {:.2f}\".format(ridge.score(x_test, y_test)))"
   ]
  },
  {
   "cell_type": "code",
   "execution_count": 5,
   "id": "d4cdd0d9",
   "metadata": {
    "execution": {
     "iopub.execute_input": "2023-12-18T15:21:29.032474Z",
     "iopub.status.busy": "2023-12-18T15:21:29.031423Z",
     "iopub.status.idle": "2023-12-18T15:21:29.053062Z",
     "shell.execute_reply": "2023-12-18T15:21:29.051184Z"
    },
    "papermill": {
     "duration": 0.036993,
     "end_time": "2023-12-18T15:21:29.057911",
     "exception": false,
     "start_time": "2023-12-18T15:21:29.020918",
     "status": "completed"
    },
    "tags": []
   },
   "outputs": [
    {
     "name": "stdout",
     "output_type": "stream",
     "text": [
      "Training set score: 0.73\n",
      "Test set score: 0.71\n"
     ]
    }
   ],
   "source": [
    "#Alpha How much importance the model puts on the simplicity vs training performance is controlled by alpha. This forces th coeff. to move more towards 0\n",
    "ridge2 = Ridge(alpha=10).fit(X_train, Y_train)\n",
    "print(\"Training set score: {:.2f}\".format(ridge2.score(X_train, Y_train)))\n",
    "print(\"Test set score: {:.2f}\".format(ridge2.score(x_test, y_test)))"
   ]
  },
  {
   "cell_type": "code",
   "execution_count": 6,
   "id": "2c433c4e",
   "metadata": {
    "execution": {
     "iopub.execute_input": "2023-12-18T15:21:29.077257Z",
     "iopub.status.busy": "2023-12-18T15:21:29.076492Z",
     "iopub.status.idle": "2023-12-18T15:21:29.122798Z",
     "shell.execute_reply": "2023-12-18T15:21:29.120952Z"
    },
    "papermill": {
     "duration": 0.061926,
     "end_time": "2023-12-18T15:21:29.128189",
     "exception": false,
     "start_time": "2023-12-18T15:21:29.066263",
     "status": "completed"
    },
    "tags": []
   },
   "outputs": [
    {
     "name": "stdout",
     "output_type": "stream",
     "text": [
      "Training set score: 0.55\n",
      "Test set score: 0.61\n",
      "Number of features used 2\n",
      "Training set score: 0.69\n",
      "Test set score: 0.68\n",
      "Number of features used 8\n"
     ]
    }
   ],
   "source": [
    "#Lasso is an alt for ridge. It also restricts coeff to be close to 0. It means some features are 0 and therefore ignored. This is a form of auto selection\n",
    "#You can adjust the max_iter to control how far coeff are pushed to 0. this improves the scores.\n",
    "from sklearn.linear_model import Lasso\n",
    "lasso = Lasso().fit(X_train, Y_train)\n",
    "print(\"Training set score: {:.2f}\".format(lasso.score(X_train, Y_train)))\n",
    "print(\"Test set score: {:.2f}\".format(lasso.score(x_test, y_test)))\n",
    "print(\"Number of features used\", np.sum(lasso.coef_ !=0))\n",
    "\n",
    "lasso = Lasso(alpha=0.01, max_iter=100000).fit(X_train, Y_train)\n",
    "print(\"Training set score: {:.2f}\".format(lasso.score(X_train, Y_train)))\n",
    "print(\"Test set score: {:.2f}\".format(lasso.score(x_test, y_test)))\n",
    "print(\"Number of features used\", np.sum(lasso.coef_ !=0))\n",
    "#Having a lower alpha allows us to fit a more complex model and increases the number of features used."
   ]
  },
  {
   "cell_type": "raw",
   "id": "c52778e6",
   "metadata": {
    "papermill": {
     "duration": 0.007631,
     "end_time": "2023-12-18T15:21:29.144792",
     "exception": false,
     "start_time": "2023-12-18T15:21:29.137161",
     "status": "completed"
    },
    "tags": []
   },
   "source": []
  }
 ],
 "metadata": {
  "kaggle": {
   "accelerator": "none",
   "dataSources": [],
   "dockerImageVersionId": 30445,
   "isGpuEnabled": false,
   "isInternetEnabled": true,
   "language": "python",
   "sourceType": "notebook"
  },
  "kernelspec": {
   "display_name": "Python 3",
   "language": "python",
   "name": "python3"
  },
  "language_info": {
   "codemirror_mode": {
    "name": "ipython",
    "version": 3
   },
   "file_extension": ".py",
   "mimetype": "text/x-python",
   "name": "python",
   "nbconvert_exporter": "python",
   "pygments_lexer": "ipython3",
   "version": "3.7.12"
  },
  "papermill": {
   "default_parameters": {},
   "duration": 17.240848,
   "end_time": "2023-12-18T15:21:30.285660",
   "environment_variables": {},
   "exception": null,
   "input_path": "__notebook__.ipynb",
   "output_path": "__notebook__.ipynb",
   "parameters": {},
   "start_time": "2023-12-18T15:21:13.044812",
   "version": "2.4.0"
  }
 },
 "nbformat": 4,
 "nbformat_minor": 5
}
