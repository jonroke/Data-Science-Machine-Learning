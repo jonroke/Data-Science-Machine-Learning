{
 "cells": [
  {
   "cell_type": "code",
   "execution_count": 1,
   "id": "1aa6305d",
   "metadata": {
    "_cell_guid": "b1076dfc-b9ad-4769-8c92-a6c4dae69d19",
    "_uuid": "8f2839f25d086af736a60e9eeb907d3b93b6e0e5",
    "execution": {
     "iopub.execute_input": "2023-12-18T15:22:31.208117Z",
     "iopub.status.busy": "2023-12-18T15:22:31.207672Z",
     "iopub.status.idle": "2023-12-18T15:22:31.222728Z",
     "shell.execute_reply": "2023-12-18T15:22:31.221473Z"
    },
    "papermill": {
     "duration": 0.023994,
     "end_time": "2023-12-18T15:22:31.225873",
     "exception": false,
     "start_time": "2023-12-18T15:22:31.201879",
     "status": "completed"
    },
    "tags": []
   },
   "outputs": [],
   "source": [
    "# This Python 3 environment comes with many helpful analytics libraries installed\n",
    "# It is defined by the kaggle/python Docker image: https://github.com/kaggle/docker-python\n",
    "# For example, here's several helpful packages to load\n",
    "\n",
    "import numpy as np # linear algebra\n",
    "import pandas as pd # data processing, CSV file I/O (e.g. pd.read_csv)\n",
    "\n",
    "# Input data files are available in the read-only \"../input/\" directory\n",
    "# For example, running this (by clicking run or pressing Shift+Enter) will list all files under the input directory\n",
    "\n",
    "import os\n",
    "for dirname, _, filenames in os.walk('/kaggle/input'):\n",
    "    for filename in filenames:\n",
    "        print(os.path.join(dirname, filename))\n",
    "\n",
    "# You can write up to 20GB to the current directory (/kaggle/working/) that gets preserved as output when you create a version using \"Save & Run All\" \n",
    "# You can also write temporary files to /kaggle/temp/, but they won't be saved outside of the current session"
   ]
  },
  {
   "cell_type": "code",
   "execution_count": 2,
   "id": "ef7e1722",
   "metadata": {
    "execution": {
     "iopub.execute_input": "2023-12-18T15:22:31.234167Z",
     "iopub.status.busy": "2023-12-18T15:22:31.233731Z",
     "iopub.status.idle": "2023-12-18T15:22:32.714203Z",
     "shell.execute_reply": "2023-12-18T15:22:32.712294Z"
    },
    "papermill": {
     "duration": 1.493881,
     "end_time": "2023-12-18T15:22:32.722915",
     "exception": false,
     "start_time": "2023-12-18T15:22:31.229034",
     "status": "completed"
    },
    "tags": []
   },
   "outputs": [
    {
     "name": "stdout",
     "output_type": "stream",
     "text": [
      "training set score: 0.951\n",
      "test set score: 0.951\n"
     ]
    },
    {
     "name": "stderr",
     "output_type": "stream",
     "text": [
      "/opt/conda/lib/python3.7/site-packages/sklearn/linear_model/_logistic.py:818: ConvergenceWarning: lbfgs failed to converge (status=1):\n",
      "STOP: TOTAL NO. of ITERATIONS REACHED LIMIT.\n",
      "\n",
      "Increase the number of iterations (max_iter) or scale the data as shown in:\n",
      "    https://scikit-learn.org/stable/modules/preprocessing.html\n",
      "Please also refer to the documentation for alternative solver options:\n",
      "    https://scikit-learn.org/stable/modules/linear_model.html#logistic-regression\n",
      "  extra_warning_msg=_LOGISTIC_SOLVER_CONVERGENCE_MSG,\n"
     ]
    }
   ],
   "source": [
    "#Logistic regression models for classification use the line to divide two classes using a line, plane or hyperplane\n",
    "import sklearn\n",
    "from sklearn.model_selection import train_test_split\n",
    "from sklearn.linear_model import LogisticRegression\n",
    "from sklearn.svm import LinearSVC\n",
    "\n",
    "#the two most common types are Logistic Regression (not the regresion algorithm Linear Regression) and Linear SVMs (support vector machines). They use a\n",
    "#strength of regularisation called C. The higher the C value the more the model tries to fit the training data. A higher C risks the danger of overfitting and will be poor on general data\n",
    "from sklearn.datasets import load_breast_cancer\n",
    "cancer = load_breast_cancer()\n",
    "X_train, X_test, y_train, y_test = train_test_split(cancer.data, cancer.target, stratify=cancer.target, random_state=42)\n",
    "logreg = LogisticRegression().fit(X_train, y_train)\n",
    "print(\"training set score: {:.3f}\".format(logreg.score(X_train, y_train)))\n",
    "print(\"test set score: {:.3f}\".format(logreg.score(X_test, y_test)))\n"
   ]
  },
  {
   "cell_type": "code",
   "execution_count": 3,
   "id": "cb042d59",
   "metadata": {
    "execution": {
     "iopub.execute_input": "2023-12-18T15:22:32.739529Z",
     "iopub.status.busy": "2023-12-18T15:22:32.738671Z",
     "iopub.status.idle": "2023-12-18T15:22:32.823130Z",
     "shell.execute_reply": "2023-12-18T15:22:32.821138Z"
    },
    "papermill": {
     "duration": 0.101724,
     "end_time": "2023-12-18T15:22:32.830964",
     "exception": false,
     "start_time": "2023-12-18T15:22:32.729240",
     "status": "completed"
    },
    "tags": []
   },
   "outputs": [
    {
     "name": "stdout",
     "output_type": "stream",
     "text": [
      "training set score: 0.946\n",
      "test set score: 0.958\n"
     ]
    },
    {
     "name": "stderr",
     "output_type": "stream",
     "text": [
      "/opt/conda/lib/python3.7/site-packages/sklearn/linear_model/_logistic.py:818: ConvergenceWarning: lbfgs failed to converge (status=1):\n",
      "STOP: TOTAL NO. of ITERATIONS REACHED LIMIT.\n",
      "\n",
      "Increase the number of iterations (max_iter) or scale the data as shown in:\n",
      "    https://scikit-learn.org/stable/modules/preprocessing.html\n",
      "Please also refer to the documentation for alternative solver options:\n",
      "    https://scikit-learn.org/stable/modules/linear_model.html#logistic-regression\n",
      "  extra_warning_msg=_LOGISTIC_SOLVER_CONVERGENCE_MSG,\n"
     ]
    }
   ],
   "source": [
    "#While it performs well the closeness of the scores suggests we are underfitting so increasing C might help\n",
    "logreg100=LogisticRegression(C=100).fit(X_train, y_train)\n",
    "print(\"training set score: {:.3f}\".format(logreg100.score(X_train, y_train)))\n",
    "print(\"test set score: {:.3f}\".format(logreg100.score(X_test, y_test)))\n",
    "#this time we are underfitting heavily"
   ]
  },
  {
   "cell_type": "code",
   "execution_count": 4,
   "id": "f6e07600",
   "metadata": {
    "execution": {
     "iopub.execute_input": "2023-12-18T15:22:32.848284Z",
     "iopub.status.busy": "2023-12-18T15:22:32.847498Z",
     "iopub.status.idle": "2023-12-18T15:22:32.934051Z",
     "shell.execute_reply": "2023-12-18T15:22:32.932054Z"
    },
    "papermill": {
     "duration": 0.104341,
     "end_time": "2023-12-18T15:22:32.942391",
     "exception": false,
     "start_time": "2023-12-18T15:22:32.838050",
     "status": "completed"
    },
    "tags": []
   },
   "outputs": [
    {
     "name": "stdout",
     "output_type": "stream",
     "text": [
      "training set score: 0.83\n",
      "test set score: 0.87\n"
     ]
    },
    {
     "name": "stderr",
     "output_type": "stream",
     "text": [
      "/opt/conda/lib/python3.7/site-packages/sklearn/svm/_base.py:1208: ConvergenceWarning: Liblinear failed to converge, increase the number of iterations.\n",
      "  ConvergenceWarning,\n"
     ]
    }
   ],
   "source": [
    "#many linear models are not good at datasets with multiple classes. A way to get round this is to use a one vs many approach.\n",
    "#This model seperates all the classes from each other and then run them all on a test point to make a prediction. The classifier with the highest\n",
    "#score wins with the class label returned as the predictor.\n",
    "linear_svm =  LinearSVC().fit(X_train, y_train)\n",
    "print(\"training set score: {:.2f}\".format(linear_svm.score(X_train, y_train)))\n",
    "print(\"test set score: {:.2f}\".format(linear_svm.score(X_test, y_test)))"
   ]
  }
 ],
 "metadata": {
  "kaggle": {
   "accelerator": "none",
   "dataSources": [],
   "dockerImageVersionId": 30458,
   "isGpuEnabled": false,
   "isInternetEnabled": true,
   "language": "python",
   "sourceType": "notebook"
  },
  "kernelspec": {
   "display_name": "Python 3",
   "language": "python",
   "name": "python3"
  },
  "language_info": {
   "codemirror_mode": {
    "name": "ipython",
    "version": 3
   },
   "file_extension": ".py",
   "mimetype": "text/x-python",
   "name": "python",
   "nbconvert_exporter": "python",
   "pygments_lexer": "ipython3",
   "version": "3.7.12"
  },
  "papermill": {
   "default_parameters": {},
   "duration": 16.521301,
   "end_time": "2023-12-18T15:22:33.789537",
   "environment_variables": {},
   "exception": null,
   "input_path": "__notebook__.ipynb",
   "output_path": "__notebook__.ipynb",
   "parameters": {},
   "start_time": "2023-12-18T15:22:17.268236",
   "version": "2.4.0"
  }
 },
 "nbformat": 4,
 "nbformat_minor": 5
}
